{
 "cells": [
  {
   "cell_type": "code",
   "execution_count": 1,
   "metadata": {},
   "outputs": [],
   "source": [
    "# This Python 3 environment comes with many helpful analytics libraries installed\n",
    "# It is defined by the kaggle/python docker image: https://github.com/kaggle/docker-python\n",
    "# For example, here's several helpful packages to load in \n",
    "\n",
    "import numpy as np # linear algebra\n",
    "import scipy as sp \n",
    "import pandas as pd # data processing, CSV file I/O (e.g. pd.read_csv)\n",
    "\n",
    "# Visualization\n",
    "import matplotlib.pyplot as plt\n",
    "import seaborn as sns\n",
    "\n",
    "# NLP tools\n",
    "import nltk"
   ]
  },
  {
   "cell_type": "code",
   "execution_count": 2,
   "metadata": {},
   "outputs": [],
   "source": [
    "# The data path of input file\n",
    "data_path = \"./Reviews.csv\"\n",
    "\n",
    "# Read csv file to pandas dataframe\n",
    "pd_data = pd.read_csv(data_path)"
   ]
  },
  {
   "cell_type": "code",
   "execution_count": 3,
   "metadata": {},
   "outputs": [],
   "source": [
    "#pd_data.head()"
   ]
  },
  {
   "cell_type": "code",
   "execution_count": 4,
   "metadata": {},
   "outputs": [],
   "source": [
    "ProductId = pd_data['UserId']\n",
    "\n",
    "class_userid=[]\n",
    "for i in range(0, 10000):\n",
    "    class_userid.append(ProductId[i])\n",
    "\n",
    "id_dict = {}\n",
    "for i in class_userid:\n",
    "    # thers already exist that id in dict\n",
    "    if i in id_dict:\n",
    "        id_dict[i] += 1\n",
    "    else:\n",
    "        id_dict[i] = 1\n",
    "\n",
    "# sort the dict to BIG TO SMALL order\n",
    "sorted_list = [(k, id_dict[k]) for k in sorted(id_dict, key=id_dict.get, reverse=True)]\n",
    "#print(sorted_list)"
   ]
  },
  {
   "cell_type": "code",
   "execution_count": 5,
   "metadata": {},
   "outputs": [
    {
     "data": {
      "text/html": [
       "<div>\n",
       "<style scoped>\n",
       "    .dataframe tbody tr th:only-of-type {\n",
       "        vertical-align: middle;\n",
       "    }\n",
       "\n",
       "    .dataframe tbody tr th {\n",
       "        vertical-align: top;\n",
       "    }\n",
       "\n",
       "    .dataframe thead th {\n",
       "        text-align: right;\n",
       "    }\n",
       "</style>\n",
       "<table border=\"1\" class=\"dataframe\">\n",
       "  <thead>\n",
       "    <tr style=\"text-align: right;\">\n",
       "      <th></th>\n",
       "      <th>UserId</th>\n",
       "      <th>ProfileName</th>\n",
       "      <th>ScoreCount</th>\n",
       "      <th>ScoreMean</th>\n",
       "    </tr>\n",
       "  </thead>\n",
       "  <tbody>\n",
       "    <tr>\n",
       "      <th>0</th>\n",
       "      <td>A1Z54EM24Y40LL</td>\n",
       "      <td>c2</td>\n",
       "      <td>17</td>\n",
       "      <td>3.882353</td>\n",
       "    </tr>\n",
       "    <tr>\n",
       "      <th>1</th>\n",
       "      <td>A2SZLNSI5KOQJT</td>\n",
       "      <td>Carrie, \"Formerly &amp;#34;Sister Carrie&amp;#34;\"</td>\n",
       "      <td>10</td>\n",
       "      <td>3.800000</td>\n",
       "    </tr>\n",
       "    <tr>\n",
       "      <th>2</th>\n",
       "      <td>A35R32TA60XD57</td>\n",
       "      <td>M. Torma</td>\n",
       "      <td>9</td>\n",
       "      <td>4.111111</td>\n",
       "    </tr>\n",
       "    <tr>\n",
       "      <th>3</th>\n",
       "      <td>A281NPSIMI1C2R</td>\n",
       "      <td>Rebecca of Amazon \"The Rebecca Review\"</td>\n",
       "      <td>8</td>\n",
       "      <td>5.000000</td>\n",
       "    </tr>\n",
       "    <tr>\n",
       "      <th>4</th>\n",
       "      <td>A3OXHLG6DIBRW8</td>\n",
       "      <td>C. F. Hill \"CFH\"</td>\n",
       "      <td>7</td>\n",
       "      <td>4.428571</td>\n",
       "    </tr>\n",
       "    <tr>\n",
       "      <th>5</th>\n",
       "      <td>A3PJZ8TU8FDQ1K</td>\n",
       "      <td>Jared Castle</td>\n",
       "      <td>7</td>\n",
       "      <td>4.714286</td>\n",
       "    </tr>\n",
       "    <tr>\n",
       "      <th>6</th>\n",
       "      <td>A3NHUQ33CFH3VM</td>\n",
       "      <td>Citizen John</td>\n",
       "      <td>7</td>\n",
       "      <td>3.142857</td>\n",
       "    </tr>\n",
       "    <tr>\n",
       "      <th>7</th>\n",
       "      <td>AY12DBB0U420B</td>\n",
       "      <td>Gary Peterson</td>\n",
       "      <td>6</td>\n",
       "      <td>4.500000</td>\n",
       "    </tr>\n",
       "    <tr>\n",
       "      <th>8</th>\n",
       "      <td>AQQLWCMRNDFGI</td>\n",
       "      <td>Steven A. Peterson</td>\n",
       "      <td>6</td>\n",
       "      <td>4.166667</td>\n",
       "    </tr>\n",
       "    <tr>\n",
       "      <th>9</th>\n",
       "      <td>A2R6RA8FRBS608</td>\n",
       "      <td>Matthew G. Sherwin</td>\n",
       "      <td>6</td>\n",
       "      <td>5.000000</td>\n",
       "    </tr>\n",
       "  </tbody>\n",
       "</table>\n",
       "</div>"
      ],
      "text/plain": [
       "           UserId                                 ProfileName  ScoreCount  \\\n",
       "0  A1Z54EM24Y40LL                                          c2          17   \n",
       "1  A2SZLNSI5KOQJT  Carrie, \"Formerly &#34;Sister Carrie&#34;\"          10   \n",
       "2  A35R32TA60XD57                                    M. Torma           9   \n",
       "3  A281NPSIMI1C2R      Rebecca of Amazon \"The Rebecca Review\"           8   \n",
       "4  A3OXHLG6DIBRW8                            C. F. Hill \"CFH\"           7   \n",
       "5  A3PJZ8TU8FDQ1K                                Jared Castle           7   \n",
       "6  A3NHUQ33CFH3VM                                Citizen John           7   \n",
       "7   AY12DBB0U420B                               Gary Peterson           6   \n",
       "8   AQQLWCMRNDFGI                          Steven A. Peterson           6   \n",
       "9  A2R6RA8FRBS608                          Matthew G. Sherwin           6   \n",
       "\n",
       "   ScoreMean  \n",
       "0   3.882353  \n",
       "1   3.800000  \n",
       "2   4.111111  \n",
       "3   5.000000  \n",
       "4   4.428571  \n",
       "5   4.714286  \n",
       "6   3.142857  \n",
       "7   4.500000  \n",
       "8   4.166667  \n",
       "9   5.000000  "
      ]
     },
     "execution_count": 5,
     "metadata": {},
     "output_type": "execute_result"
    }
   ],
   "source": [
    "count = 0\n",
    "\n",
    "# consist of UserId ProfileName UserId Score count Score\n",
    "partone_UserId=[]\n",
    "partone_ProfileName=[]\n",
    "partone_ScoreCount=[]\n",
    "partone_ScoreMean=[]\n",
    "\n",
    "for i in list(sorted_list):\n",
    "    id_int = class_userid.index(i[0])\n",
    "    partone_UserId.append(pd_data['UserId'][id_int])\n",
    "    partone_ProfileName.append(pd_data['ProfileName'][id_int])\n",
    "    partone_ScoreCount.append(i[1])\n",
    "    mean = 0\n",
    "    for j in range(0, 10000):\n",
    "        if pd_data['UserId'][j] == pd_data['UserId'][id_int]:\n",
    "            mean = mean + pd_data['Score'][j]\n",
    "    partone_ScoreMean.append(mean/i[1])\n",
    "    count+=1\n",
    "    if count==10:\n",
    "        break\n",
    "    \n",
    "pd.DataFrame(\n",
    "    {'UserId': partone_UserId,\n",
    "     'ProfileName': partone_ProfileName,\n",
    "     'ScoreCount': partone_ScoreCount,\n",
    "     'ScoreMean': partone_ScoreMean\n",
    "    })"
   ]
  },
  {
   "cell_type": "code",
   "execution_count": 6,
   "metadata": {},
   "outputs": [
    {
     "data": {
      "text/plain": [
       "<BarContainer object of 5 artists>"
      ]
     },
     "execution_count": 6,
     "metadata": {},
     "output_type": "execute_result"
    },
    {
     "data": {
      "image/png": "[encoded data removed]",
      "text/plain": [
       "<Figure size 432x288 with 1 Axes>"
      ]
     },
     "metadata": {
      "needs_background": "light"
     },
     "output_type": "display_data"
    }
   ],
   "source": [
    "# the socre count of the most one (as a dict)\n",
    "score_most={}\n",
    "\n",
    "for j in range(0, 10000):\n",
    "    if pd_data['UserId'][j] == partone_UserId[0]:\n",
    "        if pd_data['Score'][j] in score_most:\n",
    "            score_most[pd_data['Score'][j]]+=1\n",
    "        else:\n",
    "            score_most[pd_data['Score'][j]] = 1\n",
    "score_key= []\n",
    "#print(score_most)\n",
    "score_key = score_most.keys()\n",
    "xx=[]\n",
    "for i in score_key:\n",
    "    xx.append(i)\n",
    "x=[]\n",
    "x = sorted(xx)\n",
    "y=[]\n",
    "for i in x:\n",
    "    y.append(score_most[i])\n",
    "#print(y)\n",
    "plt.bar(x, y)"
   ]
  },
  {
   "cell_type": "code",
   "execution_count": 7,
   "metadata": {},
   "outputs": [
    {
     "name": "stdout",
     "output_type": "stream",
     "text": [
      "[2000, 2001, 2002, 2003, 2004, 2005, 2006, 2007, 2008, 2009, 2010, 2011, 2012]\n",
      "[2, 0, 0, 0, 20, 28, 122, 370, 508, 1193, 1621, 2890, 3246]\n"
     ]
    },
    {
     "data": {
      "image/png": "[encoded data removed]",
      "text/plain": [
       "<Figure size 432x288 with 1 Axes>"
      ]
     },
     "metadata": {
      "needs_background": "light"
     },
     "output_type": "display_data"
    }
   ],
   "source": [
    "year_hw=[]\n",
    "for j in range(0, 10000):\n",
    "    date = str(pd.to_datetime(pd_data['Time'][j], unit='s'))\n",
    "    year = date[0]+date[1]+date[2]+date[3]\n",
    "    year_hw.append(int(year))\n",
    "\n",
    "year_hw_x=[]\n",
    "year_hw_y=[]\n",
    "for j in range(2000, 2013):\n",
    "    year_hw_y.append(year_hw.count(j))\n",
    "    year_hw_x.append(j)\n",
    "print(year_hw_x)\n",
    "print(year_hw_y)\n",
    "rects1 = plt.bar(year_hw_x, year_hw_y, width=0.8,alpha=0.3, color='r',label='legend1')"
   ]
  },
  {
   "cell_type": "code",
   "execution_count": 8,
   "metadata": {},
   "outputs": [
    {
     "data": {
      "text/plain": [
       "<matplotlib.axes._subplots.AxesSubplot at 0x7f2f6279e9e8>"
      ]
     },
     "execution_count": 8,
     "metadata": {},
     "output_type": "execute_result"
    },
    {
     "data": {
      "image/png": "[encoded data removed]",
      "text/plain": [
       "<Figure size 432x288 with 2 Axes>"
      ]
     },
     "metadata": {
      "needs_background": "light"
     },
     "output_type": "display_data"
    }
   ],
   "source": [
    "sns.heatmap(pd_data.corr())"
   ]
  },
  {
   "cell_type": "code",
   "execution_count": 9,
   "metadata": {},
   "outputs": [
    {
     "data": {
      "image/png": "[encoded data removed]",
      "text/plain": [
       "<Figure size 432x288 with 1 Axes>"
      ]
     },
     "metadata": {
      "needs_background": "light"
     },
     "output_type": "display_data"
    }
   ],
   "source": [
    "son = pd_data['HelpfulnessNumerator']\n",
    "mom = pd_data['HelpfulnessDenominator']\n",
    "hw_son = []\n",
    "hw_mom = []\n",
    "for i in range(0, 10000):\n",
    "    hw_son.append(son[i])\n",
    "    hw_mom.append(mom[i])\n",
    "\n",
    "sonmom_ans=[]\n",
    "for i in range(0, 10000):\n",
    "    if int(hw_son[i])!=0 and int(hw_mom[i])!=0:\n",
    "        sonmom_ans.append(hw_son[i]/hw_mom[i])\n",
    "    elif int(hw_son[i])==0 and int(hw_mom[i])==0:\n",
    "        sonmom_ans.append(-1)\n",
    "    elif int(hw_son[i])>int(hw_mom[i]):\n",
    "        sonmom_ans.append(1)\n",
    "    elif int(hw_son[i])==0 and int(hw_mom[i])!=0:\n",
    "        sonmom_ans.append(0)\n",
    "        \n",
    "#print(sonmom_ans)\n",
    "partfive_x=[]\n",
    "partfive_y=[]\n",
    "for i in sonmom_ans:\n",
    "    if i in partfive_x:\n",
    "        index = partfive_x.index(i)\n",
    "        partfive_y[index]+=1\n",
    "    else:\n",
    "        partfive_x.append(i)\n",
    "        partfive_y.append(1)\n",
    "#print(len(partfive_x))\n",
    "#print(len(partfive_y))\n",
    "#print(partfive_x)\n",
    "#print(partfive_y)\n",
    "\n",
    "rects1 = plt.bar(partfive_x, partfive_y, width=0.25,alpha=0.3, color='b',label='legend1')"
   ]
  }
 ],
 "metadata": {
  "kernelspec": {
   "display_name": "Python 3",
   "language": "python",
   "name": "python3"
  },
  "language_info": {
   "codemirror_mode": {
    "name": "ipython",
    "version": 3
   },
   "file_extension": ".py",
   "mimetype": "text/x-python",
   "name": "python",
   "nbconvert_exporter": "python",
   "pygments_lexer": "ipython3",
   "version": "3.7.1"
  }
 },
 "nbformat": 4,
 "nbformat_minor": 2
}

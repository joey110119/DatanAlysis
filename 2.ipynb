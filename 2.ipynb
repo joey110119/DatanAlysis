{
 "cells": [
  {
   "cell_type": "code",
   "execution_count": 1,
   "metadata": {},
   "outputs": [],
   "source": [
    "# This Python 3 environment comes with many helpful analytics libraries installed\n",
    "# It is defined by the kaggle/python docker image: https://github.com/kaggle/docker-python\n",
    "# For example, here's several helpful packages to load in \n",
    "\n",
    "import numpy as np # linear algebra\n",
    "import scipy as sp \n",
    "import pandas as pd # data processing, CSV file I/O (e.g. pd.read_csv)\n",
    "\n",
    "# Visualization\n",
    "import matplotlib.pyplot as plt\n",
    "import seaborn as sns\n",
    "\n",
    "# NLP tools\n",
    "import nltk"
   ]
  },
  {
   "cell_type": "code",
   "execution_count": 2,
   "metadata": {},
   "outputs": [],
   "source": [
    "# The Data from : https://www.kaggle.com/abcsds/pokemon \n",
    "\n",
    "# The data path of input file\n",
    "data_path = \"./Pokemon.csv\"\n",
    "\n",
    "# Read csv file to pandas dataframe\n",
    "pd_data = pd.read_csv(data_path)"
   ]
  },
  {
   "cell_type": "code",
   "execution_count": 3,
   "metadata": {},
   "outputs": [
    {
     "name": "stdout",
     "output_type": "stream",
     "text": [
      "The data consists 800 Pokemons.\n"
     ]
    },
    {
     "data": {
      "text/html": [
       "<div>\n",
       "<style scoped>\n",
       "    .dataframe tbody tr th:only-of-type {\n",
       "        vertical-align: middle;\n",
       "    }\n",
       "\n",
       "    .dataframe tbody tr th {\n",
       "        vertical-align: top;\n",
       "    }\n",
       "\n",
       "    .dataframe thead th {\n",
       "        text-align: right;\n",
       "    }\n",
       "</style>\n",
       "<table border=\"1\" class=\"dataframe\">\n",
       "  <thead>\n",
       "    <tr style=\"text-align: right;\">\n",
       "      <th></th>\n",
       "      <th>#</th>\n",
       "      <th>Name</th>\n",
       "      <th>Type 1</th>\n",
       "      <th>Type 2</th>\n",
       "      <th>Total</th>\n",
       "      <th>HP</th>\n",
       "      <th>Attack</th>\n",
       "      <th>Defense</th>\n",
       "      <th>Sp. Atk</th>\n",
       "      <th>Sp. Def</th>\n",
       "      <th>Speed</th>\n",
       "      <th>Generation</th>\n",
       "      <th>Legendary</th>\n",
       "    </tr>\n",
       "  </thead>\n",
       "  <tbody>\n",
       "    <tr>\n",
       "      <th>0</th>\n",
       "      <td>1</td>\n",
       "      <td>Bulbasaur</td>\n",
       "      <td>Grass</td>\n",
       "      <td>Poison</td>\n",
       "      <td>318</td>\n",
       "      <td>45</td>\n",
       "      <td>49</td>\n",
       "      <td>49</td>\n",
       "      <td>65</td>\n",
       "      <td>65</td>\n",
       "      <td>45</td>\n",
       "      <td>1</td>\n",
       "      <td>False</td>\n",
       "    </tr>\n",
       "    <tr>\n",
       "      <th>1</th>\n",
       "      <td>2</td>\n",
       "      <td>Ivysaur</td>\n",
       "      <td>Grass</td>\n",
       "      <td>Poison</td>\n",
       "      <td>405</td>\n",
       "      <td>60</td>\n",
       "      <td>62</td>\n",
       "      <td>63</td>\n",
       "      <td>80</td>\n",
       "      <td>80</td>\n",
       "      <td>60</td>\n",
       "      <td>1</td>\n",
       "      <td>False</td>\n",
       "    </tr>\n",
       "    <tr>\n",
       "      <th>2</th>\n",
       "      <td>3</td>\n",
       "      <td>Venusaur</td>\n",
       "      <td>Grass</td>\n",
       "      <td>Poison</td>\n",
       "      <td>525</td>\n",
       "      <td>80</td>\n",
       "      <td>82</td>\n",
       "      <td>83</td>\n",
       "      <td>100</td>\n",
       "      <td>100</td>\n",
       "      <td>80</td>\n",
       "      <td>1</td>\n",
       "      <td>False</td>\n",
       "    </tr>\n",
       "    <tr>\n",
       "      <th>3</th>\n",
       "      <td>3</td>\n",
       "      <td>VenusaurMega Venusaur</td>\n",
       "      <td>Grass</td>\n",
       "      <td>Poison</td>\n",
       "      <td>625</td>\n",
       "      <td>80</td>\n",
       "      <td>100</td>\n",
       "      <td>123</td>\n",
       "      <td>122</td>\n",
       "      <td>120</td>\n",
       "      <td>80</td>\n",
       "      <td>1</td>\n",
       "      <td>False</td>\n",
       "    </tr>\n",
       "    <tr>\n",
       "      <th>4</th>\n",
       "      <td>4</td>\n",
       "      <td>Charmander</td>\n",
       "      <td>Fire</td>\n",
       "      <td>NaN</td>\n",
       "      <td>309</td>\n",
       "      <td>39</td>\n",
       "      <td>52</td>\n",
       "      <td>43</td>\n",
       "      <td>60</td>\n",
       "      <td>50</td>\n",
       "      <td>65</td>\n",
       "      <td>1</td>\n",
       "      <td>False</td>\n",
       "    </tr>\n",
       "  </tbody>\n",
       "</table>\n",
       "</div>"
      ],
      "text/plain": [
       "   #                   Name Type 1  Type 2  Total  HP  Attack  Defense  \\\n",
       "0  1              Bulbasaur  Grass  Poison    318  45      49       49   \n",
       "1  2                Ivysaur  Grass  Poison    405  60      62       63   \n",
       "2  3               Venusaur  Grass  Poison    525  80      82       83   \n",
       "3  3  VenusaurMega Venusaur  Grass  Poison    625  80     100      123   \n",
       "4  4             Charmander   Fire     NaN    309  39      52       43   \n",
       "\n",
       "   Sp. Atk  Sp. Def  Speed  Generation  Legendary  \n",
       "0       65       65     45           1      False  \n",
       "1       80       80     60           1      False  \n",
       "2      100      100     80           1      False  \n",
       "3      122      120     80           1      False  \n",
       "4       60       50     65           1      False  "
      ]
     },
     "execution_count": 3,
     "metadata": {},
     "output_type": "execute_result"
    }
   ],
   "source": [
    "print('The data consists '+str(len(pd_data['Name']))+' Pokemons.')\n",
    "pd_data.head()"
   ]
  },
  {
   "cell_type": "code",
   "execution_count": 4,
   "metadata": {},
   "outputs": [
    {
     "name": "stdout",
     "output_type": "stream",
     "text": [
      "Each generation of Pokemon exists different number of Pokemons.\n"
     ]
    },
    {
     "data": {
      "text/html": [
       "<div>\n",
       "<style scoped>\n",
       "    .dataframe tbody tr th:only-of-type {\n",
       "        vertical-align: middle;\n",
       "    }\n",
       "\n",
       "    .dataframe tbody tr th {\n",
       "        vertical-align: top;\n",
       "    }\n",
       "\n",
       "    .dataframe thead th {\n",
       "        text-align: right;\n",
       "    }\n",
       "</style>\n",
       "<table border=\"1\" class=\"dataframe\">\n",
       "  <thead>\n",
       "    <tr style=\"text-align: right;\">\n",
       "      <th></th>\n",
       "      <th>0</th>\n",
       "    </tr>\n",
       "  </thead>\n",
       "  <tbody>\n",
       "    <tr>\n",
       "      <th>first generation</th>\n",
       "      <td>166</td>\n",
       "    </tr>\n",
       "    <tr>\n",
       "      <th>second generation</th>\n",
       "      <td>106</td>\n",
       "    </tr>\n",
       "    <tr>\n",
       "      <th>third generation</th>\n",
       "      <td>160</td>\n",
       "    </tr>\n",
       "    <tr>\n",
       "      <th>fourth generation</th>\n",
       "      <td>121</td>\n",
       "    </tr>\n",
       "    <tr>\n",
       "      <th>fifth generation</th>\n",
       "      <td>165</td>\n",
       "    </tr>\n",
       "    <tr>\n",
       "      <th>sixth generation</th>\n",
       "      <td>82</td>\n",
       "    </tr>\n",
       "  </tbody>\n",
       "</table>\n",
       "</div>"
      ],
      "text/plain": [
       "                     0\n",
       "first generation   166\n",
       "second generation  106\n",
       "third generation   160\n",
       "fourth generation  121\n",
       "fifth generation   165\n",
       "sixth generation    82"
      ]
     },
     "execution_count": 4,
     "metadata": {},
     "output_type": "execute_result"
    }
   ],
   "source": [
    "print('Each generation of Pokemon exists different number of Pokemons.')\n",
    "gener=pd_data['Generation']\n",
    "gener_dict={'first generation':0, 'second generation':0, 'third generation':0, 'fourth generation':0, 'fifth generation':0, 'sixth generation':0}\n",
    "for i in gener:\n",
    "    if i==1:\n",
    "        gener_dict['first generation']+=1\n",
    "    elif i==2:\n",
    "        gener_dict['second generation']+=1\n",
    "    elif i==3:\n",
    "        gener_dict['third generation']+=1\n",
    "    elif i==4:\n",
    "        gener_dict['fourth generation']+=1\n",
    "    elif i==5:\n",
    "        gener_dict['fifth generation']+=1\n",
    "    elif i==6:\n",
    "        gener_dict['sixth generation']+=1\n",
    "pd.DataFrame.from_dict(gener_dict, orient='index')"
   ]
  },
  {
   "cell_type": "code",
   "execution_count": 5,
   "metadata": {},
   "outputs": [
    {
     "name": "stdout",
     "output_type": "stream",
     "text": [
      "The type of Pokemons (one Pokemon may have two or one type).\n",
      "\n",
      "<<   WE FIND   >>\n",
      "The most common type of Pokemon is Normalnan.\n",
      "It exist 61 NormalnanPokemons.\n",
      "\n",
      "The following is the Type Chart.\n"
     ]
    },
    {
     "data": {
      "image/png": "[encoded data removed]",
      "text/plain": [
       "<Figure size 432x288 with 1 Axes>"
      ]
     },
     "metadata": {
      "needs_background": "light"
     },
     "output_type": "display_data"
    }
   ],
   "source": [
    "print('The type of Pokemons (one Pokemon may have two or one type).')\n",
    "firsttype = pd_data['Type 1']\n",
    "secondtype = pd_data['Type 2']\n",
    "wholetype={}\n",
    "for i in range(0, len(firsttype)):\n",
    "    typekind = str(firsttype[i])+str(secondtype[i])\n",
    "    if typekind in wholetype:\n",
    "        wholetype[typekind]+=1\n",
    "    else:\n",
    "        wholetype[typekind]=1\n",
    "typeX=[]\n",
    "typeY=[]\n",
    "for i in wholetype:\n",
    "    typeX.append(i)\n",
    "for i in wholetype:\n",
    "    typeY.append(wholetype[i])\n",
    "\n",
    "plt.bar(typeX, typeY)\n",
    "\n",
    "print('\\n<<   WE FIND   >>')\n",
    "print('The most common type of Pokemon is ', end='')\n",
    "print(typeX[typeY.index(max(typeY))]+'.')\n",
    "print('It exist '+ str(max(typeY)) +' '+ typeX[typeY.index(max(typeY))]+'Pokemons.')\n",
    "print('\\nThe following is the Type Chart.')"
   ]
  },
  {
   "cell_type": "code",
   "execution_count": 6,
   "metadata": {},
   "outputs": [
    {
     "name": "stdout",
     "output_type": "stream",
     "text": [
      "Every Pokemon has its special HP, Attack, Defense, Sp.Atk, Sp.Def, and Speed.\n",
      "I want to figure out the relation between these six features.\n"
     ]
    },
    {
     "data": {
      "text/plain": [
       "<matplotlib.axes._subplots.AxesSubplot at 0x7f238e5a0c88>"
      ]
     },
     "execution_count": 6,
     "metadata": {},
     "output_type": "execute_result"
    },
    {
     "data": {
      "image/png": "[encoded data removed]",
      "text/plain": [
       "<Figure size 432x288 with 2 Axes>"
      ]
     },
     "metadata": {
      "needs_background": "light"
     },
     "output_type": "display_data"
    }
   ],
   "source": [
    "print('Every Pokemon has its special HP, Attack, Defense, Sp.Atk, Sp.Def, and Speed.')\n",
    "print('I want to figure out the relation between these six features.')\n",
    "del pd_data['Legendary']\n",
    "del pd_data['Generation']\n",
    "del pd_data['#']\n",
    "del pd_data['Total']\n",
    "sns.heatmap(pd_data.corr())"
   ]
  },
  {
   "cell_type": "code",
   "execution_count": 7,
   "metadata": {},
   "outputs": [
    {
     "name": "stdout",
     "output_type": "stream",
     "text": [
      "There are three type of Pokemons I guess may have high speed.\n",
      "1.Dragon    2.Flying    3.Bug\n",
      "Lets figure out whose speed is the fastest\n",
      "\n",
      "\n"
     ]
    },
    {
     "data": {
      "text/plain": [
       "<BarContainer object of 3 artists>"
      ]
     },
     "execution_count": 7,
     "metadata": {},
     "output_type": "execute_result"
    },
    {
     "data": {
      "image/png": "[encoded data removed]",
      "text/plain": [
       "<Figure size 432x288 with 1 Axes>"
      ]
     },
     "metadata": {
      "needs_background": "light"
     },
     "output_type": "display_data"
    }
   ],
   "source": [
    "print('There are three type of Pokemons I guess may have high speed.')\n",
    "print('1.Dragon    2.Flying    3.Bug')\n",
    "print('Lets figure out whose speed is the fastest\\n\\n')\n",
    "dragon=[]\n",
    "flying=[]\n",
    "bug=[]\n",
    "sp = pd_data['Speed']\n",
    "for i in range(0, len(firsttype)):\n",
    "    if(firsttype[i] == 'Dragon'):\n",
    "        dragon.append(sp[i])\n",
    "    elif(firsttype[i] == 'Flying'):\n",
    "        flying.append(sp[i])\n",
    "    elif(firsttype[i] == 'Bug'):\n",
    "        bug.append(sp[i])\n",
    "        \n",
    "    if(secondtype[i] == 'Dragon'):\n",
    "        dragon.append(sp[i])\n",
    "    elif(secondtype[i] == 'Flying'):\n",
    "        flying.append(sp[i])\n",
    "    elif(secondtype[i] == 'Bug'):\n",
    "        bug.append(sp[i])\n",
    "sp_x = ['Dragon', 'Flying', 'Bug']\n",
    "sp_y=[(sum(dragon)/len(dragon)), (sum(flying)/len(flying)), (sum(bug)/len(bug))]\n",
    "plt.bar(sp_x, sp_y)"
   ]
  }
 ],
 "metadata": {
  "kernelspec": {
   "display_name": "Python 3",
   "language": "python",
   "name": "python3"
  },
  "language_info": {
   "codemirror_mode": {
    "name": "ipython",
    "version": 3
   },
   "file_extension": ".py",
   "mimetype": "text/x-python",
   "name": "python",
   "nbconvert_exporter": "python",
   "pygments_lexer": "ipython3",
   "version": "3.7.1"
  }
 },
 "nbformat": 4,
 "nbformat_minor": 2
}
